{
 "cells": [
  {
   "cell_type": "code",
   "execution_count": 1,
   "metadata": {
    "ExecuteTime": {
     "end_time": "2020-11-06T17:40:23.299924Z",
     "start_time": "2020-11-06T17:40:10.636459Z"
    }
   },
   "outputs": [],
   "source": [
    "import cv2\n",
    "import numpy as np\n",
    "\n",
    "img = cv2.imread('/Users/vitalij/Downloads/3_hough/blood.png',0)\n",
    "img = cv2.cv2.GaussianBlur(img, (3,3) ,0)\n",
    "img = cv2.cvtColor(img, cv2.COLOR_GRAY2BGR)\n",
    "kernelx = np.array([[1,1,1],[0,0,0],[-1,-1,-1]])\n",
    "kernely = np.array([[-1,0,1],[-1,0,1],[-1,0,1]])\n",
    "img_prewittx = cv2.filter2D(img, -1, kernelx)\n",
    "img_prewitty = cv2.filter2D(img, -1, kernely)\n",
    "\n",
    "circles = cv2.HoughCircles(img,cv2.HOUGH_GRADIENT,1,20,\n",
    "                            param1=50,param2=30,minRadius=0,maxRadius=10)\n",
    "\n",
    "circles = np.uint16(np.around(circles))\n",
    "for i in circles[0,:]:\n",
    "    # draw the outer circle\n",
    "    cv2.circle(img,(i[0],i[1]),i[2],(0,255,0),2)\n",
    "    # draw the center of the circle\n",
    "    cv2.circle(img,(i[0],i[1]),2,(0,0,255),3)\n",
    "\n",
    "cv2.imwrite('blood',img)\n",
    "cv2.waitKey(0)\n",
    "cv2.destroyAllWindows()"
   ]
  },
  {
   "cell_type": "code",
   "execution_count": 6,
   "metadata": {
    "ExecuteTime": {
     "end_time": "2020-11-08T12:56:01.780336Z",
     "start_time": "2020-11-08T12:56:01.770077Z"
    }
   },
   "outputs": [],
   "source": [
    "from math import hypot, pi, cos, sin\n",
    "from PIL import Image\n",
    "import numpy as np\n",
    "import cv2 as cv\n",
    "import math\n",
    "\n",
    "def hough(img):\n",
    "\n",
    "    img = im.load()\n",
    "    w, h = im.size\n",
    "\n",
    "    thetaAxisSize = w #Width of the hough space image\n",
    "    rAxisSize = h #Height of the hough space image\n",
    "    rAxisSize= int(rAxisSize/2)*2 #we make sure that this number is even\n",
    "\n",
    "    houghed_img = Image.new(\"L\", (thetaAxisSize, rAxisSize), 0) #legt Bildgroesse fest\n",
    "    pixel_houghed_img = houghed_img.load()\n",
    "\n",
    "    max_radius = hypot(w, h)\n",
    "    d_theta = pi / thetaAxisSize\n",
    "    d_rho = max_radius / (rAxisSize/2) \n",
    "\n",
    "    #Accumulator\n",
    "    for x in range(0, w):\n",
    "        for y in range(0, h):\n",
    "\n",
    "            treshold = 0\n",
    "            col = img[x, y]\n",
    "            if col <= treshold: #determines for each pixel at (x,y) if there is enough evidence of a straight line at that pixel.\n",
    "\n",
    "                for vx in range(0, thetaAxisSize):\n",
    "                    theta = d_theta * vx #angle between the x axis and the line connecting the origin with that closest point.\n",
    "                    rho = x*cos(theta) + y*sin(theta) #distance from the origin to the closest point on the straight line\n",
    "                    vy = rAxisSize/2 + int(rho/d_rho+0.5) #Berechne Y-Werte im hough space image\n",
    "                    pixel_houghed_img[vx, vy] += 1 #voting\n",
    "\n",
    "    return houghed_img, rAxisSize, d_rho, d_theta"
   ]
  },
  {
   "cell_type": "code",
   "execution_count": 4,
   "metadata": {
    "ExecuteTime": {
     "end_time": "2020-11-08T12:32:15.390660Z",
     "start_time": "2020-11-08T12:32:15.366287Z"
    }
   },
   "outputs": [],
   "source": [
    "def find_maxima(houghed_img, rAxisSize, d_rho, d_theta):\n",
    "\n",
    "    w, h = houghed_img.size\n",
    "    pixel_houghed_img = houghed_img.load()\n",
    "    maxNumbers = 9\n",
    "    ignoreRadius = 10\n",
    "    maxima = [0] * maxNumbers\n",
    "    rhos = [0] * maxNumbers\n",
    "    thetas = [0] * maxNumbers\n",
    "\n",
    "    for u in range(0, maxNumbers):\n",
    "\n",
    "        print('u:', u)\n",
    "        value = 0 \n",
    "        xposition = 0\n",
    "        yposition = 0\n",
    "\n",
    "        #find maxima in the image\n",
    "        for x in range(0, w):\n",
    "            for y in range(0, h):\n",
    "\n",
    "                if(pixel_houghed_img[x,y] > value):\n",
    "\n",
    "                    value = pixel_houghed_img[x, y]\n",
    "                    xposition = x\n",
    "                    yposition = y\n",
    "\n",
    "        #Save Maxima, rhos and thetas\n",
    "        maxima[u] = value\n",
    "        rhos[u] = (yposition - rAxisSize/2) * d_rho\n",
    "        thetas[u] = xposition * d_theta\n",
    "\n",
    "        pixel_houghed_img[xposition, yposition] = 0\n",
    "\n",
    "        #Delete the values around the found maxima\n",
    "        radius = ignoreRadius\n",
    "\n",
    "        for vx2 in range (-radius, radius): #checks the values around the center\n",
    "            for vy2 in range (-radius, radius): #checks the values around the center\n",
    "                x2 = xposition + vx2 #sets the spectated position on the shifted value \n",
    "                y2 = yposition + vy2\n",
    "\n",
    "                if not(x2 < 0 or x2 >= w):\n",
    "                    if not(y2 < 0 or y2 >= h):\n",
    "\n",
    "                        pixel_houghed_img[x2, y2] = 0\n",
    "                        print(pixel_houghed_img[x2, y2])\n",
    "\n",
    "    print('max', maxima)\n",
    "    print('rho', rhos)\n",
    "    print('theta', thetas)\n",
    "\n",
    "    return maxima, rhos, thetas"
   ]
  },
  {
   "cell_type": "code",
   "execution_count": 5,
   "metadata": {
    "ExecuteTime": {
     "end_time": "2020-11-08T12:32:49.172782Z",
     "start_time": "2020-11-08T12:32:45.769795Z"
    }
   },
   "outputs": [
    {
     "ename": "IndexError",
     "evalue": "image index out of range",
     "output_type": "error",
     "traceback": [
      "\u001b[0;31m---------------------------------------------------------------------------\u001b[0m",
      "\u001b[0;31mIndexError\u001b[0m                                Traceback (most recent call last)",
      "\u001b[0;32m<ipython-input-5-2b2f99ee8f17>\u001b[0m in \u001b[0;36m<module>\u001b[0;34m\u001b[0m\n\u001b[1;32m      1\u001b[0m \u001b[0mim\u001b[0m \u001b[0;34m=\u001b[0m \u001b[0mImage\u001b[0m\u001b[0;34m.\u001b[0m\u001b[0mopen\u001b[0m\u001b[0;34m(\u001b[0m\u001b[0;34m\"/Users/vitalij/Downloads/3_hough/cable.png\"\u001b[0m\u001b[0;34m)\u001b[0m\u001b[0;34m.\u001b[0m\u001b[0mconvert\u001b[0m\u001b[0;34m(\u001b[0m\u001b[0;34m\"L\"\u001b[0m\u001b[0;34m)\u001b[0m\u001b[0;34m\u001b[0m\u001b[0;34m\u001b[0m\u001b[0m\n\u001b[0;32m----> 2\u001b[0;31m \u001b[0mhoughed_img\u001b[0m\u001b[0;34m,\u001b[0m \u001b[0mrAxisSize\u001b[0m\u001b[0;34m,\u001b[0m \u001b[0md_rho\u001b[0m\u001b[0;34m,\u001b[0m \u001b[0md_theta\u001b[0m \u001b[0;34m=\u001b[0m \u001b[0mhough\u001b[0m\u001b[0;34m(\u001b[0m\u001b[0mim\u001b[0m\u001b[0;34m)\u001b[0m\u001b[0;34m\u001b[0m\u001b[0;34m\u001b[0m\u001b[0m\n\u001b[0m\u001b[1;32m      3\u001b[0m \u001b[0mhoughed_img\u001b[0m\u001b[0;34m.\u001b[0m\u001b[0msave\u001b[0m\u001b[0;34m(\u001b[0m\u001b[0;34m\"houghspace.bmp\"\u001b[0m\u001b[0;34m)\u001b[0m\u001b[0;34m\u001b[0m\u001b[0;34m\u001b[0m\u001b[0m\n\u001b[1;32m      4\u001b[0m \u001b[0mhoughed_img\u001b[0m\u001b[0;34m.\u001b[0m\u001b[0mshow\u001b[0m\u001b[0;34m(\u001b[0m\u001b[0;34m)\u001b[0m\u001b[0;34m\u001b[0m\u001b[0;34m\u001b[0m\u001b[0m\n",
      "\u001b[0;32m<ipython-input-3-2ded8b09711e>\u001b[0m in \u001b[0;36mhough\u001b[0;34m(img)\u001b[0m\n\u001b[1;32m     33\u001b[0m                     \u001b[0mrho\u001b[0m \u001b[0;34m=\u001b[0m \u001b[0mx\u001b[0m\u001b[0;34m*\u001b[0m\u001b[0mcos\u001b[0m\u001b[0;34m(\u001b[0m\u001b[0mtheta\u001b[0m\u001b[0;34m)\u001b[0m \u001b[0;34m+\u001b[0m \u001b[0my\u001b[0m\u001b[0;34m*\u001b[0m\u001b[0msin\u001b[0m\u001b[0;34m(\u001b[0m\u001b[0mtheta\u001b[0m\u001b[0;34m)\u001b[0m \u001b[0;31m#distance from the origin to the closest point on the straight line\u001b[0m\u001b[0;34m\u001b[0m\u001b[0;34m\u001b[0m\u001b[0m\n\u001b[1;32m     34\u001b[0m                     \u001b[0mvy\u001b[0m \u001b[0;34m=\u001b[0m \u001b[0mrAxisSize\u001b[0m\u001b[0;34m/\u001b[0m\u001b[0;36m2\u001b[0m \u001b[0;34m+\u001b[0m \u001b[0mint\u001b[0m\u001b[0;34m(\u001b[0m\u001b[0mrho\u001b[0m\u001b[0;34m/\u001b[0m\u001b[0md_rho\u001b[0m\u001b[0;34m+\u001b[0m\u001b[0;36m0.5\u001b[0m\u001b[0;34m)\u001b[0m \u001b[0;31m#Berechne Y-Werte im hough space image\u001b[0m\u001b[0;34m\u001b[0m\u001b[0;34m\u001b[0m\u001b[0m\n\u001b[0;32m---> 35\u001b[0;31m                     \u001b[0mpixel_houghed_img\u001b[0m\u001b[0;34m[\u001b[0m\u001b[0mvx\u001b[0m\u001b[0;34m,\u001b[0m \u001b[0mvy\u001b[0m\u001b[0;34m]\u001b[0m \u001b[0;34m+=\u001b[0m \u001b[0;36m1\u001b[0m \u001b[0;31m#voting\u001b[0m\u001b[0;34m\u001b[0m\u001b[0;34m\u001b[0m\u001b[0m\n\u001b[0m\u001b[1;32m     36\u001b[0m \u001b[0;34m\u001b[0m\u001b[0m\n\u001b[1;32m     37\u001b[0m     \u001b[0;32mreturn\u001b[0m \u001b[0mhoughed_img\u001b[0m\u001b[0;34m,\u001b[0m \u001b[0mrAxisSize\u001b[0m\u001b[0;34m,\u001b[0m \u001b[0md_rho\u001b[0m\u001b[0;34m,\u001b[0m \u001b[0md_theta\u001b[0m\u001b[0;34m\u001b[0m\u001b[0;34m\u001b[0m\u001b[0m\n",
      "\u001b[0;31mIndexError\u001b[0m: image index out of range"
     ]
    }
   ],
   "source": [
    "im = Image.open(\"/Users/vitalij/Downloads/3_hough/cable.png\").convert(\"L\")\n",
    "houghed_img, rAxisSize, d_rho, d_theta = hough(im)\n",
    "houghed_img.save(\"houghspace.bmp\")\n",
    "houghed_img.show()"
   ]
  },
  {
   "cell_type": "code",
   "execution_count": 2,
   "metadata": {
    "ExecuteTime": {
     "end_time": "2020-11-08T12:29:33.523155Z",
     "start_time": "2020-11-08T12:29:30.826279Z"
    }
   },
   "outputs": [
    {
     "ename": "IndexError",
     "evalue": "image index out of range",
     "output_type": "error",
     "traceback": [
      "\u001b[0;31m---------------------------------------------------------------------------\u001b[0m",
      "\u001b[0;31mIndexError\u001b[0m                                Traceback (most recent call last)",
      "\u001b[0;32m<ipython-input-2-ae24722d1795>\u001b[0m in \u001b[0;36m<module>\u001b[0;34m\u001b[0m\n\u001b[1;32m      1\u001b[0m \u001b[0mim\u001b[0m \u001b[0;34m=\u001b[0m \u001b[0mImage\u001b[0m\u001b[0;34m.\u001b[0m\u001b[0mopen\u001b[0m\u001b[0;34m(\u001b[0m\u001b[0;34m\"/Users/vitalij/Downloads/3_hough/cable.png\"\u001b[0m\u001b[0;34m)\u001b[0m\u001b[0;34m.\u001b[0m\u001b[0mconvert\u001b[0m\u001b[0;34m(\u001b[0m\u001b[0;34m\"L\"\u001b[0m\u001b[0;34m)\u001b[0m\u001b[0;34m\u001b[0m\u001b[0;34m\u001b[0m\u001b[0m\n\u001b[1;32m      2\u001b[0m \u001b[0;31m#im = cv.Canny(im,100,200)\u001b[0m\u001b[0;34m\u001b[0m\u001b[0;34m\u001b[0m\u001b[0;34m\u001b[0m\u001b[0m\n\u001b[0;32m----> 3\u001b[0;31m \u001b[0mhoughed_img\u001b[0m \u001b[0;34m=\u001b[0m \u001b[0mhough\u001b[0m\u001b[0;34m(\u001b[0m\u001b[0mim\u001b[0m\u001b[0;34m)\u001b[0m\u001b[0;34m\u001b[0m\u001b[0;34m\u001b[0m\u001b[0m\n\u001b[0m\u001b[1;32m      4\u001b[0m \u001b[0;31m#houghed_img.save(\"ho.jpg\")\u001b[0m\u001b[0;34m\u001b[0m\u001b[0;34m\u001b[0m\u001b[0;34m\u001b[0m\u001b[0m\n\u001b[1;32m      5\u001b[0m \u001b[0mhoughed_img\u001b[0m\u001b[0;34m.\u001b[0m\u001b[0mshow\u001b[0m\u001b[0;34m(\u001b[0m\u001b[0;34m)\u001b[0m\u001b[0;34m\u001b[0m\u001b[0;34m\u001b[0m\u001b[0m\n",
      "\u001b[0;32m<ipython-input-1-d39fbb37953c>\u001b[0m in \u001b[0;36mhough\u001b[0;34m(img)\u001b[0m\n\u001b[1;32m     34\u001b[0m                     \u001b[0mrho\u001b[0m \u001b[0;34m=\u001b[0m \u001b[0mx\u001b[0m\u001b[0;34m*\u001b[0m\u001b[0mcos\u001b[0m\u001b[0;34m(\u001b[0m\u001b[0mtheta\u001b[0m\u001b[0;34m)\u001b[0m \u001b[0;34m+\u001b[0m \u001b[0my\u001b[0m\u001b[0;34m*\u001b[0m\u001b[0msin\u001b[0m\u001b[0;34m(\u001b[0m\u001b[0mtheta\u001b[0m\u001b[0;34m)\u001b[0m \u001b[0;31m#distance from the origin to the closest point on the straight line\u001b[0m\u001b[0;34m\u001b[0m\u001b[0;34m\u001b[0m\u001b[0m\n\u001b[1;32m     35\u001b[0m                     \u001b[0mvy\u001b[0m \u001b[0;34m=\u001b[0m \u001b[0mrAxisSize\u001b[0m\u001b[0;34m/\u001b[0m\u001b[0;36m2\u001b[0m \u001b[0;34m+\u001b[0m \u001b[0mint\u001b[0m\u001b[0;34m(\u001b[0m\u001b[0mrho\u001b[0m\u001b[0;34m/\u001b[0m\u001b[0md_rho\u001b[0m\u001b[0;34m+\u001b[0m\u001b[0;36m0.5\u001b[0m\u001b[0;34m)\u001b[0m \u001b[0;31m#Berechne Y-Werte im hough space image\u001b[0m\u001b[0;34m\u001b[0m\u001b[0;34m\u001b[0m\u001b[0m\n\u001b[0;32m---> 36\u001b[0;31m                     \u001b[0mpixel_houghed_img\u001b[0m\u001b[0;34m[\u001b[0m\u001b[0mvx\u001b[0m\u001b[0;34m,\u001b[0m \u001b[0mvy\u001b[0m\u001b[0;34m]\u001b[0m \u001b[0;34m+=\u001b[0m \u001b[0;36m1\u001b[0m \u001b[0;31m#voting\u001b[0m\u001b[0;34m\u001b[0m\u001b[0;34m\u001b[0m\u001b[0m\n\u001b[0m\u001b[1;32m     37\u001b[0m \u001b[0;34m\u001b[0m\u001b[0m\n\u001b[1;32m     38\u001b[0m     \u001b[0;32mreturn\u001b[0m \u001b[0mhoughed_img\u001b[0m\u001b[0;34m\u001b[0m\u001b[0;34m\u001b[0m\u001b[0m\n",
      "\u001b[0;31mIndexError\u001b[0m: image index out of range"
     ]
    }
   ],
   "source": [
    "im = Image.open(\"/Users/vitalij/Downloads/3_hough/cable.png\").convert(\"L\")\n",
    "#im = cv.Canny(im,100,200)\n",
    "houghed_img = hough(im)\n",
    "#houghed_img.save(\"ho.jpg\")\n",
    "houghed_img.show()"
   ]
  },
  {
   "cell_type": "code",
   "execution_count": 7,
   "metadata": {
    "ExecuteTime": {
     "end_time": "2020-11-08T12:56:36.842449Z",
     "start_time": "2020-11-08T12:56:36.829686Z"
    }
   },
   "outputs": [],
   "source": [
    "from math import hypot, pi, cos, sin\n",
    "from PIL import Image\n",
    "import numpy as np\n",
    "import cv2 as cv\n",
    "import math\n",
    "\n",
    "def hough(img):\n",
    "\n",
    "    thetaAxisSize = 460 #Width of the hough space image\n",
    "    rAxisSize = 360 #Height of the hough space image\n",
    "    rAxisSize= int(rAxisSize/2)*2 #we make sure that this number is even\n",
    "\n",
    "    img = im.load()\n",
    "    w, h = im.size\n",
    "\n",
    "    houghed_img = Image.new(\"L\", (thetaAxisSize, rAxisSize), 0) #legt Bildgroesse fest\n",
    "    pixel_houghed_img = houghed_img.load()\n",
    "\n",
    "    max_radius = hypot(w, h)\n",
    "    d_theta = pi / thetaAxisSize\n",
    "    d_rho = max_radius / (rAxisSize/2) \n",
    "\n",
    "\n",
    "    #Accumulator\n",
    "    for x in range(0, w):\n",
    "        for y in range(0, h):\n",
    "\n",
    "            treshold = 255\n",
    "            col = img[x, y]\n",
    "            if col >= treshold: #determines for each pixel at (x,y) if there is enough evidence of a straight line at that pixel.\n",
    "\n",
    "                for vx in range(0, thetaAxisSize):\n",
    "                    theta = d_theta * vx #angle between the x axis and the line connecting the origin with that closest point.\n",
    "                    rho = x*cos(theta) + y*sin(theta) #distance from the origin to the closest point on the straight line\n",
    "                    vy = rAxisSize/2 + int(rho/d_rho+0.5) #Berechne Y-Werte im hough space image\n",
    "                    pixel_houghed_img[vx, vy] += 1 #voting\n",
    "\n",
    "    return houghed_img"
   ]
  },
  {
   "cell_type": "code",
   "execution_count": 15,
   "metadata": {
    "ExecuteTime": {
     "end_time": "2020-11-08T13:00:06.362727Z",
     "start_time": "2020-11-08T13:00:06.345567Z"
    }
   },
   "outputs": [],
   "source": [
    "from math import hypot, pi, cos, sin\n",
    "from PIL import Image\n",
    "import numpy as np\n",
    "import cv2 as cv\n",
    "import math\n",
    "\n",
    "def hough(img):\n",
    "\n",
    "    img = im.load()\n",
    "   # w, h = im.size\n",
    "\n",
    "    thetaAxisSize = 460 #Width of the hough space image\n",
    "    rAxisSize = 360 #Height of the hough space image\n",
    "    rAxisSize= int(rAxisSize/2)*2 #we make sure that this number is even\n",
    "\n",
    "    houghed_img = Image.new(\"L\", (thetaAxisSize, rAxisSize), 0) #legt Bildgroesse fest\n",
    "    pixel_houghed_img = houghed_img.load()\n",
    "\n",
    "    max_radius = hypot(460, 360)\n",
    "    d_theta = pi / thetaAxisSize\n",
    "    d_rho = max_radius / (rAxisSize/2) \n",
    "\n",
    "    #Accumulator\n",
    "    for x in range(0, 460):\n",
    "        for y in range(0, 360):\n",
    "\n",
    "            treshold = 0\n",
    "            col = img[x, y]\n",
    "            if col <= treshold: #determines for each pixel at (x,y) if there is enough evidence of a straight line at that pixel.\n",
    "\n",
    "                for vx in range(0, thetaAxisSize):\n",
    "                    theta = d_theta * vx #angle between the x axis and the line connecting the origin with that closest point.\n",
    "                    rho = x*cos(theta) + y*sin(theta) #distance from the origin to the closest point on the straight line\n",
    "                    vy = rAxisSize/2 + int(rho/d_rho+0.5) #Berechne Y-Werte im hough space image\n",
    "                    pixel_houghed_img[vx, vy] += 1 #voting\n",
    "\n",
    "    return houghed_img, rAxisSize, d_rho, d_theta"
   ]
  },
  {
   "cell_type": "code",
   "execution_count": 16,
   "metadata": {
    "ExecuteTime": {
     "end_time": "2020-11-08T13:00:07.348476Z",
     "start_time": "2020-11-08T13:00:07.300353Z"
    }
   },
   "outputs": [
    {
     "ename": "AttributeError",
     "evalue": "'tuple' object has no attribute 'show'",
     "output_type": "error",
     "traceback": [
      "\u001b[0;31m---------------------------------------------------------------------------\u001b[0m",
      "\u001b[0;31mAttributeError\u001b[0m                            Traceback (most recent call last)",
      "\u001b[0;32m<ipython-input-16-ae24722d1795>\u001b[0m in \u001b[0;36m<module>\u001b[0;34m\u001b[0m\n\u001b[1;32m      3\u001b[0m \u001b[0mhoughed_img\u001b[0m \u001b[0;34m=\u001b[0m \u001b[0mhough\u001b[0m\u001b[0;34m(\u001b[0m\u001b[0mim\u001b[0m\u001b[0;34m)\u001b[0m\u001b[0;34m\u001b[0m\u001b[0;34m\u001b[0m\u001b[0m\n\u001b[1;32m      4\u001b[0m \u001b[0;31m#houghed_img.save(\"ho.jpg\")\u001b[0m\u001b[0;34m\u001b[0m\u001b[0;34m\u001b[0m\u001b[0;34m\u001b[0m\u001b[0m\n\u001b[0;32m----> 5\u001b[0;31m \u001b[0mhoughed_img\u001b[0m\u001b[0;34m.\u001b[0m\u001b[0mshow\u001b[0m\u001b[0;34m(\u001b[0m\u001b[0;34m)\u001b[0m\u001b[0;34m\u001b[0m\u001b[0;34m\u001b[0m\u001b[0m\n\u001b[0m",
      "\u001b[0;31mAttributeError\u001b[0m: 'tuple' object has no attribute 'show'"
     ]
    }
   ],
   "source": [
    "im = Image.open(\"/Users/vitalij/Downloads/3_hough/cable.png\").convert(\"L\")\n",
    "#im = cv.Canny(im,100,200)\n",
    "houghed_img = hough(im)\n",
    "#houghed_img.save(\"ho.jpg\")\n",
    "houghed_img.show()"
   ]
  },
  {
   "cell_type": "code",
   "execution_count": 18,
   "metadata": {
    "ExecuteTime": {
     "end_time": "2020-11-08T15:25:27.898012Z",
     "start_time": "2020-11-08T15:25:25.293440Z"
    }
   },
   "outputs": [
    {
     "ename": "IndexError",
     "evalue": "image index out of range",
     "output_type": "error",
     "traceback": [
      "\u001b[0;31m---------------------------------------------------------------------------\u001b[0m",
      "\u001b[0;31mIndexError\u001b[0m                                Traceback (most recent call last)",
      "\u001b[0;32m<ipython-input-18-4c337b1e2c88>\u001b[0m in \u001b[0;36m<module>\u001b[0;34m\u001b[0m\n\u001b[1;32m     92\u001b[0m \u001b[0;34m\u001b[0m\u001b[0m\n\u001b[1;32m     93\u001b[0m \u001b[0mim\u001b[0m \u001b[0;34m=\u001b[0m \u001b[0mImage\u001b[0m\u001b[0;34m.\u001b[0m\u001b[0mopen\u001b[0m\u001b[0;34m(\u001b[0m\u001b[0;34m\"/Users/vitalij/Downloads/3_hough/cable.png\"\u001b[0m\u001b[0;34m)\u001b[0m\u001b[0;34m.\u001b[0m\u001b[0mconvert\u001b[0m\u001b[0;34m(\u001b[0m\u001b[0;34m\"L\"\u001b[0m\u001b[0;34m)\u001b[0m\u001b[0;34m\u001b[0m\u001b[0;34m\u001b[0m\u001b[0m\n\u001b[0;32m---> 94\u001b[0;31m \u001b[0mhoughed_img\u001b[0m\u001b[0;34m,\u001b[0m \u001b[0mrAxisSize\u001b[0m\u001b[0;34m,\u001b[0m \u001b[0md_rho\u001b[0m\u001b[0;34m,\u001b[0m \u001b[0md_theta\u001b[0m \u001b[0;34m=\u001b[0m \u001b[0mhough\u001b[0m\u001b[0;34m(\u001b[0m\u001b[0mim\u001b[0m\u001b[0;34m)\u001b[0m\u001b[0;34m\u001b[0m\u001b[0;34m\u001b[0m\u001b[0m\n\u001b[0m\u001b[1;32m     95\u001b[0m \u001b[0mhoughed_img\u001b[0m\u001b[0;34m.\u001b[0m\u001b[0msave\u001b[0m\u001b[0;34m(\u001b[0m\u001b[0;34m\"houghspace.bmp\"\u001b[0m\u001b[0;34m)\u001b[0m\u001b[0;34m\u001b[0m\u001b[0;34m\u001b[0m\u001b[0m\n\u001b[1;32m     96\u001b[0m \u001b[0mhoughed_img\u001b[0m\u001b[0;34m.\u001b[0m\u001b[0mshow\u001b[0m\u001b[0;34m(\u001b[0m\u001b[0;34m)\u001b[0m\u001b[0;34m\u001b[0m\u001b[0;34m\u001b[0m\u001b[0m\n",
      "\u001b[0;32m<ipython-input-18-4c337b1e2c88>\u001b[0m in \u001b[0;36mhough\u001b[0;34m(img)\u001b[0m\n\u001b[1;32m     33\u001b[0m                     \u001b[0mrho\u001b[0m \u001b[0;34m=\u001b[0m \u001b[0mx\u001b[0m\u001b[0;34m*\u001b[0m\u001b[0mcos\u001b[0m\u001b[0;34m(\u001b[0m\u001b[0mtheta\u001b[0m\u001b[0;34m)\u001b[0m \u001b[0;34m+\u001b[0m \u001b[0my\u001b[0m\u001b[0;34m*\u001b[0m\u001b[0msin\u001b[0m\u001b[0;34m(\u001b[0m\u001b[0mtheta\u001b[0m\u001b[0;34m)\u001b[0m \u001b[0;31m#distance from the origin to the closest point on the straight line\u001b[0m\u001b[0;34m\u001b[0m\u001b[0;34m\u001b[0m\u001b[0m\n\u001b[1;32m     34\u001b[0m                     \u001b[0mvy\u001b[0m \u001b[0;34m=\u001b[0m \u001b[0mrAxisSize\u001b[0m\u001b[0;34m/\u001b[0m\u001b[0;36m2\u001b[0m \u001b[0;34m+\u001b[0m \u001b[0mint\u001b[0m\u001b[0;34m(\u001b[0m\u001b[0mrho\u001b[0m\u001b[0;34m/\u001b[0m\u001b[0md_rho\u001b[0m\u001b[0;34m+\u001b[0m\u001b[0;36m0.5\u001b[0m\u001b[0;34m)\u001b[0m \u001b[0;31m#Berechne Y-Werte im hough space image\u001b[0m\u001b[0;34m\u001b[0m\u001b[0;34m\u001b[0m\u001b[0m\n\u001b[0;32m---> 35\u001b[0;31m                     \u001b[0mpixel_houghed_img\u001b[0m\u001b[0;34m[\u001b[0m\u001b[0mvx\u001b[0m\u001b[0;34m,\u001b[0m \u001b[0mvy\u001b[0m\u001b[0;34m]\u001b[0m \u001b[0;34m+=\u001b[0m \u001b[0;36m1\u001b[0m \u001b[0;31m#voting\u001b[0m\u001b[0;34m\u001b[0m\u001b[0;34m\u001b[0m\u001b[0m\n\u001b[0m\u001b[1;32m     36\u001b[0m \u001b[0;34m\u001b[0m\u001b[0m\n\u001b[1;32m     37\u001b[0m     \u001b[0;32mreturn\u001b[0m \u001b[0mhoughed_img\u001b[0m\u001b[0;34m,\u001b[0m \u001b[0mrAxisSize\u001b[0m\u001b[0;34m,\u001b[0m \u001b[0md_rho\u001b[0m\u001b[0;34m,\u001b[0m \u001b[0md_theta\u001b[0m\u001b[0;34m\u001b[0m\u001b[0;34m\u001b[0m\u001b[0m\n",
      "\u001b[0;31mIndexError\u001b[0m: image index out of range"
     ]
    }
   ],
   "source": [
    "from math import hypot, pi, cos, sin\n",
    "from PIL import Image\n",
    "import numpy as np\n",
    "import cv2 as cv\n",
    "import math\n",
    "\n",
    "def hough(img):\n",
    "\n",
    "    img = im.load()\n",
    "    w, h = im.size\n",
    "\n",
    "    thetaAxisSize = w #Width of the hough space image\n",
    "    rAxisSize = h #Height of the hough space image\n",
    "    rAxisSize= int(rAxisSize/2)*2 #we make sure that this number is even\n",
    "\n",
    "    houghed_img = Image.new(\"L\", (thetaAxisSize, rAxisSize), 0) #legt Bildgroesse fest\n",
    "    pixel_houghed_img = houghed_img.load()\n",
    "\n",
    "    max_radius = hypot(w, h)\n",
    "    d_theta = pi / thetaAxisSize\n",
    "    d_rho = max_radius / (rAxisSize/2) \n",
    "\n",
    "    #Accumulator\n",
    "    for x in range(0, w):\n",
    "        for y in range(0, h):\n",
    "\n",
    "            treshold = 0\n",
    "            col = img[x, y]\n",
    "            if col <= treshold: #determines for each pixel at (x,y) if there is enough evidence of a straight line at that pixel.\n",
    "\n",
    "                for vx in range(0, thetaAxisSize):\n",
    "                    theta = d_theta * vx #angle between the x axis and the line connecting the origin with that closest point.\n",
    "                    rho = x*cos(theta) + y*sin(theta) #distance from the origin to the closest point on the straight line\n",
    "                    vy = rAxisSize/2 + int(rho/d_rho+0.5) #Berechne Y-Werte im hough space image\n",
    "                    pixel_houghed_img[vx, vy] += 1 #voting\n",
    "\n",
    "    return houghed_img, rAxisSize, d_rho, d_theta\n",
    "\n",
    "def find_maxima(houghed_img, rAxisSize, d_rho, d_theta):\n",
    "\n",
    "    w, h = houghed_img.size\n",
    "    pixel_houghed_img = houghed_img.load()\n",
    "    maxNumbers = 9\n",
    "    ignoreRadius = 10\n",
    "    maxima = [0] * maxNumbers\n",
    "    rhos = [0] * maxNumbers\n",
    "    thetas = [0] * maxNumbers\n",
    "\n",
    "    for u in range(0, maxNumbers):\n",
    "\n",
    "        print('u:', u)\n",
    "        value = 0 \n",
    "        xposition = 0\n",
    "        yposition = 0\n",
    "\n",
    "        #find maxima in the image\n",
    "        for x in range(0, w):\n",
    "            for y in range(0, h):\n",
    "\n",
    "                if(pixel_houghed_img[x,y] > value):\n",
    "\n",
    "                    value = pixel_houghed_img[x, y]\n",
    "                    xposition = x\n",
    "                    yposition = y\n",
    "\n",
    "        #Save Maxima, rhos and thetas\n",
    "        maxima[u] = value\n",
    "        rhos[u] = (yposition - rAxisSize/2) * d_rho\n",
    "        thetas[u] = xposition * d_theta\n",
    "\n",
    "        pixel_houghed_img[xposition, yposition] = 0\n",
    "\n",
    "        #Delete the values around the found maxima\n",
    "        radius = ignoreRadius\n",
    "\n",
    "        for vx2 in range (-radius, radius): #checks the values around the center\n",
    "            for vy2 in range (-radius, radius): #checks the values around the center\n",
    "                x2 = xposition + vx2 #sets the spectated position on the shifted value \n",
    "                y2 = yposition + vy2\n",
    "\n",
    "                if not(x2 < 0 or x2 >= w):\n",
    "                    if not(y2 < 0 or y2 >= h):\n",
    "\n",
    "                        pixel_houghed_img[x2, y2] = 0\n",
    "                        print(pixel_houghed_img[x2, y2])\n",
    "\n",
    "    print('max', maxima)\n",
    "    print('rho', rhos)\n",
    "    print('theta', thetas)\n",
    "\n",
    "    return maxima, rhos, thetas\n",
    "\n",
    "im = Image.open(\"/Users/vitalij/Downloads/3_hough/cable.png\").convert(\"L\")\n",
    "houghed_img, rAxisSize, d_rho, d_theta = hough(im)\n",
    "houghed_img.save(\"houghspace.bmp\")\n",
    "houghed_img.show()\n",
    "\n",
    "img_copy = np.ones(im.size)\n",
    "\n",
    "maxima, rhos, thetas = find_maxima(houghed_img, rAxisSize, d_rho, d_theta)\n",
    "\n",
    "for t in range(0, len(maxima)):\n",
    "    a = math.cos(thetas[t])\n",
    "    b = math.sin(thetas[t])\n",
    "    x = a * rhos[t]\n",
    "    y = b * rhos[t]\n",
    "    pt1 = (int(x + 1000*(-b)), int(y + 1000*(a)))\n",
    "    pt2 = (int(x - 1000*(-b)), int(y - 1000*(a)))\n",
    "    cv.line(img_copy, pt1, pt2, (0,0,255), 3, cv.LINE_AA)\n",
    "\n",
    "cv.imshow('lines', img_copy)\n",
    "cv.waitKey(0)\n",
    "cv.destroyAllWindows()"
   ]
  },
  {
   "cell_type": "code",
   "execution_count": 19,
   "metadata": {
    "ExecuteTime": {
     "end_time": "2020-11-08T16:01:15.848964Z",
     "start_time": "2020-11-08T16:01:13.929195Z"
    }
   },
   "outputs": [
    {
     "ename": "TypeError",
     "evalue": "object of type <class 'numpy.float64'> cannot be safely interpreted as an integer.",
     "output_type": "error",
     "traceback": [
      "\u001b[0;31m---------------------------------------------------------------------------\u001b[0m",
      "\u001b[0;31mTypeError\u001b[0m                                 Traceback (most recent call last)",
      "\u001b[0;32m~/anaconda3/lib/python3.7/site-packages/numpy/core/function_base.py\u001b[0m in \u001b[0;36mlinspace\u001b[0;34m(start, stop, num, endpoint, retstep, dtype, axis)\u001b[0m\n\u001b[1;32m    116\u001b[0m     \u001b[0;32mtry\u001b[0m\u001b[0;34m:\u001b[0m\u001b[0;34m\u001b[0m\u001b[0;34m\u001b[0m\u001b[0m\n\u001b[0;32m--> 117\u001b[0;31m         \u001b[0mnum\u001b[0m \u001b[0;34m=\u001b[0m \u001b[0moperator\u001b[0m\u001b[0;34m.\u001b[0m\u001b[0mindex\u001b[0m\u001b[0;34m(\u001b[0m\u001b[0mnum\u001b[0m\u001b[0;34m)\u001b[0m\u001b[0;34m\u001b[0m\u001b[0;34m\u001b[0m\u001b[0m\n\u001b[0m\u001b[1;32m    118\u001b[0m     \u001b[0;32mexcept\u001b[0m \u001b[0mTypeError\u001b[0m\u001b[0;34m:\u001b[0m\u001b[0;34m\u001b[0m\u001b[0;34m\u001b[0m\u001b[0m\n",
      "\u001b[0;31mTypeError\u001b[0m: 'numpy.float64' object cannot be interpreted as an integer",
      "\nDuring handling of the above exception, another exception occurred:\n",
      "\u001b[0;31mTypeError\u001b[0m                                 Traceback (most recent call last)",
      "\u001b[0;32m<ipython-input-19-bb657550ed8b>\u001b[0m in \u001b[0;36m<module>\u001b[0;34m\u001b[0m\n\u001b[1;32m     99\u001b[0m \u001b[0mbw\u001b[0m \u001b[0;34m=\u001b[0m \u001b[0mcv2\u001b[0m\u001b[0;34m.\u001b[0m\u001b[0mcvtColor\u001b[0m\u001b[0;34m(\u001b[0m\u001b[0mimg\u001b[0m\u001b[0;34m,\u001b[0m \u001b[0mcv2\u001b[0m\u001b[0;34m.\u001b[0m\u001b[0mCOLOR_BGR2GRAY\u001b[0m\u001b[0;34m)\u001b[0m\u001b[0;34m\u001b[0m\u001b[0;34m\u001b[0m\u001b[0m\n\u001b[1;32m    100\u001b[0m \u001b[0medges\u001b[0m \u001b[0;34m=\u001b[0m \u001b[0mcv2\u001b[0m\u001b[0;34m.\u001b[0m\u001b[0mCanny\u001b[0m\u001b[0;34m(\u001b[0m\u001b[0mbw\u001b[0m\u001b[0;34m,\u001b[0m \u001b[0mthreshold1\u001b[0m \u001b[0;34m=\u001b[0m \u001b[0;36m0\u001b[0m\u001b[0;34m,\u001b[0m \u001b[0mthreshold2\u001b[0m \u001b[0;34m=\u001b[0m \u001b[0;36m50\u001b[0m\u001b[0;34m,\u001b[0m \u001b[0mapertureSize\u001b[0m \u001b[0;34m=\u001b[0m \u001b[0;36m3\u001b[0m\u001b[0;34m)\u001b[0m\u001b[0;34m\u001b[0m\u001b[0;34m\u001b[0m\u001b[0m\n\u001b[0;32m--> 101\u001b[0;31m \u001b[0mrhos\u001b[0m\u001b[0;34m,\u001b[0m \u001b[0mthetas\u001b[0m\u001b[0;34m,\u001b[0m \u001b[0mH\u001b[0m \u001b[0;34m=\u001b[0m \u001b[0mhough_transform\u001b[0m\u001b[0;34m(\u001b[0m\u001b[0medges\u001b[0m\u001b[0;34m)\u001b[0m\u001b[0;34m\u001b[0m\u001b[0;34m\u001b[0m\u001b[0m\n\u001b[0m\u001b[1;32m    102\u001b[0m \u001b[0;34m\u001b[0m\u001b[0m\n\u001b[1;32m    103\u001b[0m \u001b[0mrho_theta_pairs\u001b[0m\u001b[0;34m,\u001b[0m \u001b[0mx_y_pairs\u001b[0m \u001b[0;34m=\u001b[0m \u001b[0mtop_n_rho_theta_pairs\u001b[0m\u001b[0;34m(\u001b[0m\u001b[0mH\u001b[0m\u001b[0;34m,\u001b[0m \u001b[0;36m22\u001b[0m\u001b[0;34m,\u001b[0m \u001b[0mrhos\u001b[0m\u001b[0;34m,\u001b[0m \u001b[0mthetas\u001b[0m\u001b[0;34m)\u001b[0m\u001b[0;34m\u001b[0m\u001b[0;34m\u001b[0m\u001b[0m\n",
      "\u001b[0;32m<ipython-input-19-bb657550ed8b>\u001b[0m in \u001b[0;36mhough_transform\u001b[0;34m(img_bin, theta_res, rho_res)\u001b[0m\n\u001b[1;32m     12\u001b[0m \u001b[0;32mdef\u001b[0m \u001b[0mhough_transform\u001b[0m\u001b[0;34m(\u001b[0m\u001b[0mimg_bin\u001b[0m\u001b[0;34m,\u001b[0m \u001b[0mtheta_res\u001b[0m\u001b[0;34m=\u001b[0m\u001b[0;36m1\u001b[0m\u001b[0;34m,\u001b[0m \u001b[0mrho_res\u001b[0m\u001b[0;34m=\u001b[0m\u001b[0;36m1\u001b[0m\u001b[0;34m)\u001b[0m\u001b[0;34m:\u001b[0m\u001b[0;34m\u001b[0m\u001b[0;34m\u001b[0m\u001b[0m\n\u001b[1;32m     13\u001b[0m   \u001b[0mnR\u001b[0m\u001b[0;34m,\u001b[0m\u001b[0mnC\u001b[0m \u001b[0;34m=\u001b[0m \u001b[0mimg_bin\u001b[0m\u001b[0;34m.\u001b[0m\u001b[0mshape\u001b[0m\u001b[0;34m\u001b[0m\u001b[0;34m\u001b[0m\u001b[0m\n\u001b[0;32m---> 14\u001b[0;31m   \u001b[0mtheta\u001b[0m \u001b[0;34m=\u001b[0m \u001b[0mnp\u001b[0m\u001b[0;34m.\u001b[0m\u001b[0mlinspace\u001b[0m\u001b[0;34m(\u001b[0m\u001b[0;34m-\u001b[0m\u001b[0;36m90.0\u001b[0m\u001b[0;34m,\u001b[0m \u001b[0;36m0.0\u001b[0m\u001b[0;34m,\u001b[0m \u001b[0mnp\u001b[0m\u001b[0;34m.\u001b[0m\u001b[0mceil\u001b[0m\u001b[0;34m(\u001b[0m\u001b[0;36m90.0\u001b[0m\u001b[0;34m/\u001b[0m\u001b[0mtheta_res\u001b[0m\u001b[0;34m)\u001b[0m \u001b[0;34m+\u001b[0m \u001b[0;36m1.0\u001b[0m\u001b[0;34m)\u001b[0m\u001b[0;34m\u001b[0m\u001b[0;34m\u001b[0m\u001b[0m\n\u001b[0m\u001b[1;32m     15\u001b[0m   \u001b[0mtheta\u001b[0m \u001b[0;34m=\u001b[0m \u001b[0mnp\u001b[0m\u001b[0;34m.\u001b[0m\u001b[0mconcatenate\u001b[0m\u001b[0;34m(\u001b[0m\u001b[0;34m(\u001b[0m\u001b[0mtheta\u001b[0m\u001b[0;34m,\u001b[0m \u001b[0;34m-\u001b[0m\u001b[0mtheta\u001b[0m\u001b[0;34m[\u001b[0m\u001b[0mlen\u001b[0m\u001b[0;34m(\u001b[0m\u001b[0mtheta\u001b[0m\u001b[0;34m)\u001b[0m\u001b[0;34m-\u001b[0m\u001b[0;36m2\u001b[0m\u001b[0;34m:\u001b[0m\u001b[0;34m:\u001b[0m\u001b[0;34m-\u001b[0m\u001b[0;36m1\u001b[0m\u001b[0;34m]\u001b[0m\u001b[0;34m)\u001b[0m\u001b[0;34m)\u001b[0m\u001b[0;34m\u001b[0m\u001b[0;34m\u001b[0m\u001b[0m\n\u001b[1;32m     16\u001b[0m \u001b[0;34m\u001b[0m\u001b[0m\n",
      "\u001b[0;32m<__array_function__ internals>\u001b[0m in \u001b[0;36mlinspace\u001b[0;34m(*args, **kwargs)\u001b[0m\n",
      "\u001b[0;32m~/anaconda3/lib/python3.7/site-packages/numpy/core/function_base.py\u001b[0m in \u001b[0;36mlinspace\u001b[0;34m(start, stop, num, endpoint, retstep, dtype, axis)\u001b[0m\n\u001b[1;32m    119\u001b[0m         raise TypeError(\n\u001b[1;32m    120\u001b[0m             \u001b[0;34m\"object of type {} cannot be safely interpreted as an integer.\"\u001b[0m\u001b[0;34m\u001b[0m\u001b[0;34m\u001b[0m\u001b[0m\n\u001b[0;32m--> 121\u001b[0;31m                 .format(type(num)))\n\u001b[0m\u001b[1;32m    122\u001b[0m \u001b[0;34m\u001b[0m\u001b[0m\n\u001b[1;32m    123\u001b[0m     \u001b[0;32mif\u001b[0m \u001b[0mnum\u001b[0m \u001b[0;34m<\u001b[0m \u001b[0;36m0\u001b[0m\u001b[0;34m:\u001b[0m\u001b[0;34m\u001b[0m\u001b[0;34m\u001b[0m\u001b[0m\n",
      "\u001b[0;31mTypeError\u001b[0m: object of type <class 'numpy.float64'> cannot be safely interpreted as an integer."
     ]
    }
   ],
   "source": [
    "import cv2\n",
    "import numpy as np\n",
    "from matplotlib import pyplot as plt\n",
    "import sys\n",
    "import math\n",
    "import pdb\n",
    "\n",
    "img_orig = cv2.imread(\"/Users/vitalij/Downloads/3_hough/cable.png\",)\n",
    "img = img_orig[:,:,::-1] # color channel plotting mess http://stackoverflow.com/a/15074748/2256243\n",
    "\n",
    "# http://nabinsharma.wordpress.com/2012/12/26/linear-hough-transform-using-python/\n",
    "def hough_transform(img_bin, theta_res=1, rho_res=1):\n",
    "  nR,nC = img_bin.shape\n",
    "  theta = np.linspace(-90.0, 0.0, np.ceil(90.0/theta_res) + 1.0)\n",
    "  theta = np.concatenate((theta, -theta[len(theta)-2::-1]))\n",
    "\n",
    "  D = np.sqrt((nR - 1)**2 + (nC - 1)**2)\n",
    "  q = np.ceil(D/rho_res)\n",
    "  nrho = 2*q + 1\n",
    "  rho = np.linspace(-q*rho_res, q*rho_res, nrho)\n",
    "  H = np.zeros((len(rho), len(theta)))\n",
    "  for rowIdx in range(nR):\n",
    "    for colIdx in range(nC):\n",
    "      if img_bin[rowIdx, colIdx]:\n",
    "        for thIdx in range(len(theta)):\n",
    "          rhoVal = colIdx*np.cos(theta[thIdx]*np.pi/180.0) + \\\n",
    "              rowIdx*np.sin(theta[thIdx]*np.pi/180)\n",
    "          rhoIdx = np.nonzero(np.abs(rho-rhoVal) == np.min(np.abs(rho-rhoVal)))[0]\n",
    "          H[rhoIdx[0], thIdx] += 1\n",
    "  return rho, theta, H\n",
    "\n",
    "def top_n_rho_theta_pairs(ht_acc_matrix, n, rhos, thetas):\n",
    "  '''\n",
    "  @param hough transform accumulator matrix H (rho by theta)\n",
    "  @param n pairs of rho and thetas desired\n",
    "  @param ordered array of rhos represented by rows in H\n",
    "  @param ordered array of thetas represented by columns in H\n",
    "  @return top n rho theta pairs in H by accumulator value\n",
    "  @return x,y indexes in H of top n rho theta pairs\n",
    "  '''\n",
    "  flat = list(set(np.hstack(ht_acc_matrix)))\n",
    "  flat_sorted = sorted(flat, key = lambda n: -n)\n",
    "  coords_sorted = [(np.argwhere(ht_acc_matrix == acc_value)) for acc_value in flat_sorted[0:n]]\n",
    "  rho_theta = []\n",
    "  x_y = []\n",
    "  for coords_for_val_idx in range(0, len(coords_sorted), 1):\n",
    "    coords_for_val = coords_sorted[coords_for_val_idx]\n",
    "    for i in range(0, len(coords_for_val), 1):\n",
    "      n,m = coords_for_val[i] # n by m matrix\n",
    "      rho = rhos[n]\n",
    "      theta = thetas[m]\n",
    "      rho_theta.append([rho, theta])\n",
    "      x_y.append([m, n]) # just to unnest and reorder coords_sorted\n",
    "  return [rho_theta[0:n], x_y]\n",
    "\n",
    "def valid_point(pt, ymax, xmax):\n",
    "  '''\n",
    "  @return True/False if pt is with bounds for an xmax by ymax image\n",
    "  '''\n",
    "  x, y = pt\n",
    "  if x <= xmax and x >= 0 and y <= ymax and y >= 0:\n",
    "    return True\n",
    "  else:\n",
    "    return False\n",
    "\n",
    "def round_tup(tup):\n",
    "  '''\n",
    "  @return closest integer for each number in a point for referencing\n",
    "  a particular pixel in an image\n",
    "  '''\n",
    "  x,y = [int(round(num)) for num in tup]\n",
    "  return (x,y)\n",
    "\n",
    "def draw_rho_theta_pairs(target_im, pairs):\n",
    "  '''\n",
    "  @param opencv image\n",
    "  @param array of rho and theta pairs\n",
    "  Has the side-effect of drawing a line corresponding to a rho theta\n",
    "  pair on the image provided\n",
    "  '''\n",
    "  im_y_max, im_x_max, channels = np.shape(target_im)\n",
    "  for i in range(0, len(pairs), 1):\n",
    "    point = pairs[i]\n",
    "    rho = point[0]\n",
    "    theta = point[1] * np.pi / 180 # degrees to radians\n",
    "    # y = mx + b form\n",
    "    m = -np.cos(theta) / np.sin(theta)\n",
    "    b = rho / np.sin(theta)\n",
    "    # possible intersections on image edges\n",
    "    left = (0, b)\n",
    "    right = (im_x_max, im_x_max * m + b)\n",
    "    top = (-b / m, 0)\n",
    "    bottom = ((im_y_max - b) / m, im_y_max)\n",
    "\n",
    "    pts = [pt for pt in [left, right, top, bottom] if valid_point(pt, im_y_max, im_x_max)]\n",
    "    if len(pts) == 2:\n",
    "      cv2.line(target_im, round_tup(pts[0]), round_tup(pts[1]), (0,0,255), 1)\n",
    "\n",
    "bw = cv2.cvtColor(img, cv2.COLOR_BGR2GRAY)\n",
    "edges = cv2.Canny(bw, threshold1 = 0, threshold2 = 50, apertureSize = 3)\n",
    "rhos, thetas, H = hough_transform(edges)\n",
    "\n",
    "rho_theta_pairs, x_y_pairs = top_n_rho_theta_pairs(H, 22, rhos, thetas)\n",
    "im_w_lines = img.copy()\n",
    "draw_rho_theta_pairs(im_w_lines, rho_theta_pairs)\n",
    "\n",
    "# also going to draw circles in the accumulator matrix\n",
    "for i in range(0, len(x_y_pairs), 1):\n",
    "  x, y = x_y_pairs[i]\n",
    "  cv2.circle(img = H, center = (x, y), radius = 12, color=(0,0,0), thickness = 1)\n",
    "\n",
    "plt.subplot(141),plt.imshow(img)\n",
    "plt.title('Original Image'), plt.xticks([]), plt.yticks([])\n",
    "plt.subplot(142),plt.imshow(edges,cmap = 'gray')\n",
    "plt.title('Image Edges'), plt.xticks([]), plt.yticks([])\n",
    "plt.subplot(143),plt.imshow(H)\n",
    "plt.title('Hough Transform Accumulator'), plt.xticks([]), plt.yticks([])\n",
    "plt.subplot(144),plt.imshow(im_w_lines)\n",
    "plt.title('Detected Lines'), plt.xticks([]), plt.yticks([])\n",
    "\n",
    "plt.show()"
   ]
  },
  {
   "cell_type": "code",
   "execution_count": 15,
   "metadata": {
    "ExecuteTime": {
     "end_time": "2020-11-08T16:14:07.155781Z",
     "start_time": "2020-11-08T16:14:07.144268Z"
    }
   },
   "outputs": [],
   "source": [
    "def hough_transform(img_bin, theta_res=1, rho_res=1):\n",
    "  nR,nC = img_bin.shape\n",
    "  theta = int(np.linspace(-90, 0, int(np.ceil(90/theta_res)) + 1))\n",
    "  theta = np.concatenate((theta, -theta[len(theta)-2::-1]))\n",
    "\n",
    "  D = np.sqrt((nR - 1)**2 + (nC - 1)**2)\n",
    "  q = np.ceil(D/rho_res)\n",
    "  nrho = 2*q + 1\n",
    "  rho = np.linspace(-q*rho_res, q*rho_res, nrho)\n",
    "  H = np.zeros((len(rho), len(theta)))\n",
    "  for rowIdx in range(nR):\n",
    "    for colIdx in range(nC):\n",
    "      if img_bin[rowIdx, colIdx]:\n",
    "        for thIdx in range(len(theta)):\n",
    "          rhoVal = colIdx*np.cos(theta[thIdx]*np.pi/180.0) + \\\n",
    "              rowIdx*np.sin(theta[thIdx]*np.pi/180)\n",
    "          rhoIdx = np.nonzero(np.abs(rho-rhoVal) == np.min(np.abs(rho-rhoVal)))[0]\n",
    "          H[rhoIdx[0], thIdx] += 1\n",
    "  return rho, theta, H"
   ]
  },
  {
   "cell_type": "code",
   "execution_count": 16,
   "metadata": {
    "ExecuteTime": {
     "end_time": "2020-11-08T16:14:07.680525Z",
     "start_time": "2020-11-08T16:14:07.673219Z"
    }
   },
   "outputs": [],
   "source": [
    "import cv2\n",
    "import numpy as np\n",
    "from matplotlib import pyplot as plt\n",
    "import sys\n",
    "import math\n",
    "import pdb\n",
    "\n",
    "img_orig = cv2.imread(\"/Users/vitalij/Downloads/3_hough/cable.png\",)\n",
    "img = img_orig[:,:,::-1]"
   ]
  },
  {
   "cell_type": "code",
   "execution_count": 17,
   "metadata": {
    "ExecuteTime": {
     "end_time": "2020-11-08T16:14:08.046431Z",
     "start_time": "2020-11-08T16:14:08.028362Z"
    }
   },
   "outputs": [
    {
     "ename": "TypeError",
     "evalue": "only size-1 arrays can be converted to Python scalars",
     "output_type": "error",
     "traceback": [
      "\u001b[0;31m---------------------------------------------------------------------------\u001b[0m",
      "\u001b[0;31mTypeError\u001b[0m                                 Traceback (most recent call last)",
      "\u001b[0;32m<ipython-input-17-b072448563c7>\u001b[0m in \u001b[0;36m<module>\u001b[0;34m\u001b[0m\n\u001b[1;32m      1\u001b[0m \u001b[0mbw\u001b[0m \u001b[0;34m=\u001b[0m \u001b[0mcv2\u001b[0m\u001b[0;34m.\u001b[0m\u001b[0mcvtColor\u001b[0m\u001b[0;34m(\u001b[0m\u001b[0mimg\u001b[0m\u001b[0;34m,\u001b[0m \u001b[0mcv2\u001b[0m\u001b[0;34m.\u001b[0m\u001b[0mCOLOR_BGR2GRAY\u001b[0m\u001b[0;34m)\u001b[0m\u001b[0;34m\u001b[0m\u001b[0;34m\u001b[0m\u001b[0m\n\u001b[1;32m      2\u001b[0m \u001b[0medges\u001b[0m \u001b[0;34m=\u001b[0m \u001b[0mcv2\u001b[0m\u001b[0;34m.\u001b[0m\u001b[0mCanny\u001b[0m\u001b[0;34m(\u001b[0m\u001b[0mbw\u001b[0m\u001b[0;34m,\u001b[0m \u001b[0mthreshold1\u001b[0m \u001b[0;34m=\u001b[0m \u001b[0;36m0\u001b[0m\u001b[0;34m,\u001b[0m \u001b[0mthreshold2\u001b[0m \u001b[0;34m=\u001b[0m \u001b[0;36m50\u001b[0m\u001b[0;34m,\u001b[0m \u001b[0mapertureSize\u001b[0m \u001b[0;34m=\u001b[0m \u001b[0;36m3\u001b[0m\u001b[0;34m)\u001b[0m\u001b[0;34m\u001b[0m\u001b[0;34m\u001b[0m\u001b[0m\n\u001b[0;32m----> 3\u001b[0;31m \u001b[0mrhos\u001b[0m\u001b[0;34m,\u001b[0m \u001b[0mthetas\u001b[0m\u001b[0;34m,\u001b[0m \u001b[0mH\u001b[0m \u001b[0;34m=\u001b[0m \u001b[0mhough_transform\u001b[0m\u001b[0;34m(\u001b[0m\u001b[0medges\u001b[0m\u001b[0;34m)\u001b[0m\u001b[0;34m\u001b[0m\u001b[0;34m\u001b[0m\u001b[0m\n\u001b[0m",
      "\u001b[0;32m<ipython-input-15-2d5918613bfd>\u001b[0m in \u001b[0;36mhough_transform\u001b[0;34m(img_bin, theta_res, rho_res)\u001b[0m\n\u001b[1;32m      1\u001b[0m \u001b[0;32mdef\u001b[0m \u001b[0mhough_transform\u001b[0m\u001b[0;34m(\u001b[0m\u001b[0mimg_bin\u001b[0m\u001b[0;34m,\u001b[0m \u001b[0mtheta_res\u001b[0m\u001b[0;34m=\u001b[0m\u001b[0;36m1\u001b[0m\u001b[0;34m,\u001b[0m \u001b[0mrho_res\u001b[0m\u001b[0;34m=\u001b[0m\u001b[0;36m1\u001b[0m\u001b[0;34m)\u001b[0m\u001b[0;34m:\u001b[0m\u001b[0;34m\u001b[0m\u001b[0;34m\u001b[0m\u001b[0m\n\u001b[1;32m      2\u001b[0m   \u001b[0mnR\u001b[0m\u001b[0;34m,\u001b[0m\u001b[0mnC\u001b[0m \u001b[0;34m=\u001b[0m \u001b[0mimg_bin\u001b[0m\u001b[0;34m.\u001b[0m\u001b[0mshape\u001b[0m\u001b[0;34m\u001b[0m\u001b[0;34m\u001b[0m\u001b[0m\n\u001b[0;32m----> 3\u001b[0;31m   \u001b[0mtheta\u001b[0m \u001b[0;34m=\u001b[0m \u001b[0mint\u001b[0m\u001b[0;34m(\u001b[0m\u001b[0mnp\u001b[0m\u001b[0;34m.\u001b[0m\u001b[0mlinspace\u001b[0m\u001b[0;34m(\u001b[0m\u001b[0;34m-\u001b[0m\u001b[0;36m90\u001b[0m\u001b[0;34m,\u001b[0m \u001b[0;36m0\u001b[0m\u001b[0;34m,\u001b[0m \u001b[0mint\u001b[0m\u001b[0;34m(\u001b[0m\u001b[0mnp\u001b[0m\u001b[0;34m.\u001b[0m\u001b[0mceil\u001b[0m\u001b[0;34m(\u001b[0m\u001b[0;36m90\u001b[0m\u001b[0;34m/\u001b[0m\u001b[0mtheta_res\u001b[0m\u001b[0;34m)\u001b[0m\u001b[0;34m)\u001b[0m \u001b[0;34m+\u001b[0m \u001b[0;36m1\u001b[0m\u001b[0;34m)\u001b[0m\u001b[0;34m)\u001b[0m\u001b[0;34m\u001b[0m\u001b[0;34m\u001b[0m\u001b[0m\n\u001b[0m\u001b[1;32m      4\u001b[0m   \u001b[0mtheta\u001b[0m \u001b[0;34m=\u001b[0m \u001b[0mnp\u001b[0m\u001b[0;34m.\u001b[0m\u001b[0mconcatenate\u001b[0m\u001b[0;34m(\u001b[0m\u001b[0;34m(\u001b[0m\u001b[0mtheta\u001b[0m\u001b[0;34m,\u001b[0m \u001b[0;34m-\u001b[0m\u001b[0mtheta\u001b[0m\u001b[0;34m[\u001b[0m\u001b[0mlen\u001b[0m\u001b[0;34m(\u001b[0m\u001b[0mtheta\u001b[0m\u001b[0;34m)\u001b[0m\u001b[0;34m-\u001b[0m\u001b[0;36m2\u001b[0m\u001b[0;34m:\u001b[0m\u001b[0;34m:\u001b[0m\u001b[0;34m-\u001b[0m\u001b[0;36m1\u001b[0m\u001b[0;34m]\u001b[0m\u001b[0;34m)\u001b[0m\u001b[0;34m)\u001b[0m\u001b[0;34m\u001b[0m\u001b[0;34m\u001b[0m\u001b[0m\n\u001b[1;32m      5\u001b[0m \u001b[0;34m\u001b[0m\u001b[0m\n",
      "\u001b[0;31mTypeError\u001b[0m: only size-1 arrays can be converted to Python scalars"
     ]
    }
   ],
   "source": [
    "bw = cv2.cvtColor(img, cv2.COLOR_BGR2GRAY)\n",
    "edges = cv2.Canny(bw, threshold1 = 0, threshold2 = 50, apertureSize = 3)\n",
    "rhos, thetas, H = hough_transform(edges)"
   ]
  },
  {
   "cell_type": "code",
   "execution_count": null,
   "metadata": {},
   "outputs": [],
   "source": []
  }
 ],
 "metadata": {
  "kernelspec": {
   "display_name": "Python 3",
   "language": "python",
   "name": "python3"
  },
  "language_info": {
   "codemirror_mode": {
    "name": "ipython",
    "version": 3
   },
   "file_extension": ".py",
   "mimetype": "text/x-python",
   "name": "python",
   "nbconvert_exporter": "python",
   "pygments_lexer": "ipython3",
   "version": "3.7.7"
  }
 },
 "nbformat": 4,
 "nbformat_minor": 4
}
