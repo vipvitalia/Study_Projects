{
 "cells": [
  {
   "cell_type": "code",
   "execution_count": 8,
   "metadata": {
    "ExecuteTime": {
     "end_time": "2020-05-22T19:53:01.094887Z",
     "start_time": "2020-05-22T19:53:01.089742Z"
    }
   },
   "outputs": [],
   "source": [
    "import numpy as np\n",
    "import pandas as pd"
   ]
  },
  {
   "cell_type": "code",
   "execution_count": 4,
   "metadata": {
    "ExecuteTime": {
     "end_time": "2020-05-22T19:50:06.185598Z",
     "start_time": "2020-05-22T19:50:06.129457Z"
    }
   },
   "outputs": [],
   "source": [
    "df = pd.DataFrame(columns=['CAR_ID','YEAR','MILEAGE','MANUFACTURER'])"
   ]
  },
  {
   "cell_type": "code",
   "execution_count": 25,
   "metadata": {
    "ExecuteTime": {
     "end_time": "2020-05-22T20:28:29.415789Z",
     "start_time": "2020-05-22T20:19:01.226650Z"
    }
   },
   "outputs": [],
   "source": [
    "for i in range(1, 110000):\n",
    "    year = np.random.randint(1950,2020)\n",
    "    mil = np.random.randint(0,100000)\n",
    "    man = np.random.randint(1,15)\n",
    "    df.loc[i-1] = {'CAR_ID':i, 'YEAR':year, 'MILEAGE':mil, 'MANUFACTURER':man}\n",
    "    "
   ]
  },
  {
   "cell_type": "code",
   "execution_count": 28,
   "metadata": {
    "ExecuteTime": {
     "end_time": "2020-05-22T20:28:59.461439Z",
     "start_time": "2020-05-22T20:28:59.441418Z"
    }
   },
   "outputs": [
    {
     "data": {
      "text/html": [
       "<div>\n",
       "<style scoped>\n",
       "    .dataframe tbody tr th:only-of-type {\n",
       "        vertical-align: middle;\n",
       "    }\n",
       "\n",
       "    .dataframe tbody tr th {\n",
       "        vertical-align: top;\n",
       "    }\n",
       "\n",
       "    .dataframe thead th {\n",
       "        text-align: right;\n",
       "    }\n",
       "</style>\n",
       "<table border=\"1\" class=\"dataframe\">\n",
       "  <thead>\n",
       "    <tr style=\"text-align: right;\">\n",
       "      <th></th>\n",
       "      <th>CAR_ID</th>\n",
       "      <th>YEAR</th>\n",
       "      <th>MILEAGE</th>\n",
       "      <th>MANUFACTURER</th>\n",
       "    </tr>\n",
       "  </thead>\n",
       "  <tbody>\n",
       "    <tr>\n",
       "      <th>0</th>\n",
       "      <td>1</td>\n",
       "      <td>1999</td>\n",
       "      <td>92313</td>\n",
       "      <td>8</td>\n",
       "    </tr>\n",
       "    <tr>\n",
       "      <th>1</th>\n",
       "      <td>2</td>\n",
       "      <td>1962</td>\n",
       "      <td>52923</td>\n",
       "      <td>3</td>\n",
       "    </tr>\n",
       "    <tr>\n",
       "      <th>2</th>\n",
       "      <td>3</td>\n",
       "      <td>1954</td>\n",
       "      <td>583</td>\n",
       "      <td>1</td>\n",
       "    </tr>\n",
       "    <tr>\n",
       "      <th>3</th>\n",
       "      <td>4</td>\n",
       "      <td>1983</td>\n",
       "      <td>45924</td>\n",
       "      <td>6</td>\n",
       "    </tr>\n",
       "    <tr>\n",
       "      <th>4</th>\n",
       "      <td>5</td>\n",
       "      <td>1990</td>\n",
       "      <td>81769</td>\n",
       "      <td>12</td>\n",
       "    </tr>\n",
       "  </tbody>\n",
       "</table>\n",
       "</div>"
      ],
      "text/plain": [
       "   CAR_ID  YEAR  MILEAGE  MANUFACTURER\n",
       "0       1  1999    92313             8\n",
       "1       2  1962    52923             3\n",
       "2       3  1954      583             1\n",
       "3       4  1983    45924             6\n",
       "4       5  1990    81769            12"
      ]
     },
     "execution_count": 28,
     "metadata": {},
     "output_type": "execute_result"
    }
   ],
   "source": [
    "df.head()"
   ]
  },
  {
   "cell_type": "code",
   "execution_count": 30,
   "metadata": {
    "ExecuteTime": {
     "end_time": "2020-05-22T20:33:37.956244Z",
     "start_time": "2020-05-22T20:33:37.702155Z"
    }
   },
   "outputs": [],
   "source": [
    "df.to_csv(\"/Users/vitalij/Desktop/cars.csv\", index=False)"
   ]
  },
  {
   "cell_type": "code",
   "execution_count": null,
   "metadata": {},
   "outputs": [],
   "source": []
  },
  {
   "cell_type": "code",
   "execution_count": 31,
   "metadata": {
    "ExecuteTime": {
     "end_time": "2020-05-22T20:43:06.851415Z",
     "start_time": "2020-05-22T20:43:06.824759Z"
    }
   },
   "outputs": [],
   "source": [
    "emp = pd.DataFrame(columns=['EMP_ID','DEPARTMENT'])"
   ]
  },
  {
   "cell_type": "code",
   "execution_count": 34,
   "metadata": {
    "ExecuteTime": {
     "end_time": "2020-05-22T20:45:59.528867Z",
     "start_time": "2020-05-22T20:45:58.376667Z"
    }
   },
   "outputs": [],
   "source": [
    "for i in range(1, 500):\n",
    "    man = np.random.randint(1,4)\n",
    "    emp.loc[i-1] = {'EMP_ID':i, 'DEPARTMENT':man}"
   ]
  },
  {
   "cell_type": "code",
   "execution_count": 35,
   "metadata": {
    "ExecuteTime": {
     "end_time": "2020-05-22T20:46:01.088236Z",
     "start_time": "2020-05-22T20:46:01.076768Z"
    }
   },
   "outputs": [],
   "source": [
    "emp.to_csv(\"/Users/vitalij/Desktop/emp.csv\", index=False)"
   ]
  },
  {
   "cell_type": "code",
   "execution_count": null,
   "metadata": {},
   "outputs": [],
   "source": []
  },
  {
   "cell_type": "code",
   "execution_count": 42,
   "metadata": {
    "ExecuteTime": {
     "end_time": "2020-05-22T21:03:43.088457Z",
     "start_time": "2020-05-22T21:03:43.078055Z"
    }
   },
   "outputs": [],
   "source": [
    "det = pd.DataFrame(columns=['RENT_ID','DATE_FROM','DATE_TO','CAR_ID',\n",
    "                            'CITY_TAKEN','CITY_RETURNED','INSURANCE','PAYMENT','ISSUER_ID','FEES'])"
   ]
  },
  {
   "cell_type": "code",
   "execution_count": 61,
   "metadata": {
    "ExecuteTime": {
     "end_time": "2020-05-22T22:56:26.265330Z",
     "start_time": "2020-05-22T22:03:11.176180Z"
    }
   },
   "outputs": [],
   "source": [
    "for i in range(1, 150000):\n",
    "    d1 = np.random.randint(2010,2020)\n",
    "    d11 = np.random.randint(1,12)\n",
    "    d111 = np.random.randint(1,28)\n",
    "    d2 = np.random.randint(2010,2020)\n",
    "    d22 = np.random.randint(1,12)\n",
    "    d222 = np.random.randint(1,28)\n",
    "    car = np.random.randint(1,110000)\n",
    "    city1 = np.random.randint(1,8)\n",
    "    city2 = np.random.randint(1,8)\n",
    "    ins =  np.random.randint(1,4)\n",
    "    pay =  np.random.randint(1,4)\n",
    "    emp = np.random.randint(1,500)\n",
    "    fee = np.random.randint(1,5)\n",
    "    date1 = str(min(d1,d2))+'-'+str(min(d11,d22))+'-'+str(min(d111,d222))\n",
    "    date2 = str(max(d1,d2))+'-'+str(max(d11,d22))+'-'+str(max(d111,d222))\n",
    "    det.loc[i-1] = {'RENT_ID':i, 'DATE_FROM':date1,'DATE_TO':date2, 'CAR_ID':car, 'CITY_TAKEN':city1, \n",
    "                    'CITY_RETURNED':city2, 'INSURANCE':ins, 'PAYMENT':pay, 'ISSUER_ID':emp, 'FEES':fee  }"
   ]
  },
  {
   "cell_type": "code",
   "execution_count": 62,
   "metadata": {
    "ExecuteTime": {
     "end_time": "2020-05-22T23:22:59.745699Z",
     "start_time": "2020-05-22T23:22:59.079671Z"
    }
   },
   "outputs": [],
   "source": [
    "det.to_csv(\"/Users/vitalij/Desktop/det.csv\", index=False)"
   ]
  },
  {
   "cell_type": "code",
   "execution_count": null,
   "metadata": {},
   "outputs": [],
   "source": []
  }
 ],
 "metadata": {
  "kernelspec": {
   "display_name": "Python 3",
   "language": "python",
   "name": "python3"
  },
  "language_info": {
   "codemirror_mode": {
    "name": "ipython",
    "version": 3
   },
   "file_extension": ".py",
   "mimetype": "text/x-python",
   "name": "python",
   "nbconvert_exporter": "python",
   "pygments_lexer": "ipython3",
   "version": "3.7.7"
  },
  "notify_time": "0"
 },
 "nbformat": 4,
 "nbformat_minor": 4
}
